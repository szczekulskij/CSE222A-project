{
 "cells": [
  {
   "cell_type": "code",
   "execution_count": 6,
   "metadata": {},
   "outputs": [
    {
     "data": {
      "text/plain": [
       "<Cubic_0_Website.pcap: TCP:0 UDP:0 ICMP:0 Other:0>"
      ]
     },
     "execution_count": 6,
     "metadata": {},
     "output_type": "execute_result"
    }
   ],
   "source": [
    "from scapy.all import rdpcap, TCP\n",
    "import matplotlib.pyplot as plt\n",
    "import pandas as pd\n",
    "\n",
    "# Read pcap file\n",
    "packets = rdpcap(\"../data/Cubic_0_Website.pcap\")\n",
    "\n",
    "# Extract TCP data\n",
    "timestamps = []\n",
    "seq_nums = []\n",
    "ack_nums = []\n",
    "payload_sizes = []\n",
    "\n",
    "for pkt in packets:\n",
    "    if TCP in pkt:\n",
    "        if pkt[TCP].dport == 80 or pkt[TCP].sport == 80:  # Filter HTTP traffic\n",
    "            timestamps.append(pkt.time)\n",
    "            seq_nums.append(pkt[TCP].seq)\n",
    "            ack_nums.append(pkt[TCP].ack)\n",
    "            payload_sizes.append(len(pkt[TCP].payload))\n",
    "\n",
    "# Create a DataFrame\n",
    "data = pd.DataFrame({\n",
    "    \"timestamp\": timestamps,\n",
    "    \"seq_num\": seq_nums,\n",
    "    \"ack_num\": ack_nums,\n",
    "    \"payload_size\": payload_sizes\n",
    "})\n",
    "\n",
    "# # Compute throughput (bytes per second)\n",
    "# data['time_diff'] = data['timestamp'].diff()\n",
    "# data['throughput'] = data['payload_size'] / data['time_diff']\n",
    "\n",
    "# # Plot Congestion Window (if explicit values known)\n",
    "# plt.figure(figsize=(10, 6))\n",
    "# plt.plot(data['timestamp'], data['seq_num'], label='Congestion Window')\n",
    "# plt.xlabel('Time (s)')\n",
    "# plt.ylabel('Sequence Number')\n",
    "# plt.title('Congestion Window Over Time')\n",
    "# plt.legend()\n",
    "# plt.show()\n",
    "\n",
    "# # Plot Throughput\n",
    "# plt.figure(figsize=(10, 6))\n",
    "# plt.plot(data['timestamp'], data['throughput'], label='Throughput')\n",
    "# plt.xlabel('Time (s)')\n",
    "# plt.ylabel('Throughput (bytes/s)')\n",
    "# plt.title('Throughput Over Time')\n",
    "# plt.legend()\n",
    "# plt.show()\n",
    "\n",
    "packets"
   ]
  },
  {
   "cell_type": "code",
   "execution_count": null,
   "metadata": {},
   "outputs": [],
   "source": []
  }
 ],
 "metadata": {
  "kernelspec": {
   "display_name": "Python 3",
   "language": "python",
   "name": "python3"
  },
  "language_info": {
   "codemirror_mode": {
    "name": "ipython",
    "version": 3
   },
   "file_extension": ".py",
   "mimetype": "text/x-python",
   "name": "python",
   "nbconvert_exporter": "python",
   "pygments_lexer": "ipython3",
   "version": "3.10.9"
  }
 },
 "nbformat": 4,
 "nbformat_minor": 2
}
